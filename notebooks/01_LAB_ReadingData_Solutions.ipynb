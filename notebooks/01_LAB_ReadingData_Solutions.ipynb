{
 "cells": [
  {
   "cell_type": "markdown",
   "metadata": {},
   "source": [
    "# Machine Learning Foundation\n",
    "\n",
    "## Section 1, Part a: Reading Data "
   ]
  },
  {
   "cell_type": "code",
   "execution_count": 2,
   "metadata": {},
   "outputs": [],
   "source": [
    "# Imports\n",
    "import sqlite3 as sq3\n",
    "import pandas.io.sql as pds\n",
    "import pandas as pd"
   ]
  },
  {
   "cell_type": "code",
   "execution_count": 3,
   "metadata": {},
   "outputs": [],
   "source": [
    "# Initialize path to SQLite database\n",
    "\n",
    "path = '../data/classic_rock.db'\n",
    "con = sq3.Connection(path)"
   ]
  },
  {
   "cell_type": "code",
   "execution_count": 6,
   "metadata": {},
   "outputs": [],
   "source": [
    "# Write query\n",
    "\n",
    "query = '''\n",
    "SELECT * \n",
    "FROM rock_songs;\n",
    "'''"
   ]
  },
  {
   "cell_type": "code",
   "execution_count": 12,
   "metadata": {},
   "outputs": [
    {
     "data": {
      "text/html": [
       "<div>\n",
       "<style scoped>\n",
       "    .dataframe tbody tr th:only-of-type {\n",
       "        vertical-align: middle;\n",
       "    }\n",
       "\n",
       "    .dataframe tbody tr th {\n",
       "        vertical-align: top;\n",
       "    }\n",
       "\n",
       "    .dataframe thead th {\n",
       "        text-align: right;\n",
       "    }\n",
       "</style>\n",
       "<table border=\"1\" class=\"dataframe\">\n",
       "  <thead>\n",
       "    <tr style=\"text-align: right;\">\n",
       "      <th></th>\n",
       "      <th>Artist</th>\n",
       "      <th>Release_Year</th>\n",
       "      <th>num_songs</th>\n",
       "      <th>avg_plays</th>\n",
       "    </tr>\n",
       "  </thead>\n",
       "  <tbody>\n",
       "    <tr>\n",
       "      <th>0</th>\n",
       "      <td>The Beatles</td>\n",
       "      <td>1967.0</td>\n",
       "      <td>23</td>\n",
       "      <td>6.565217</td>\n",
       "    </tr>\n",
       "  </tbody>\n",
       "</table>\n",
       "</div>"
      ],
      "text/plain": [
       "        Artist  Release_Year  num_songs  avg_plays\n",
       "0  The Beatles        1967.0         23   6.565217"
      ]
     },
     "execution_count": 12,
     "metadata": {},
     "output_type": "execute_result"
    }
   ],
   "source": [
    "# Execute the query\n",
    "\n",
    "observations = pds.read_sql(query, con)\n",
    "observations.head(1)"
   ]
  },
  {
   "cell_type": "code",
   "execution_count": 20,
   "metadata": {},
   "outputs": [],
   "source": [
    "all_ts = pd.read_sql('SELECT* FROM sqlite_master',con)"
   ]
  },
  {
   "cell_type": "code",
   "execution_count": 21,
   "metadata": {},
   "outputs": [
    {
     "data": {
      "text/html": [
       "<div>\n",
       "<style scoped>\n",
       "    .dataframe tbody tr th:only-of-type {\n",
       "        vertical-align: middle;\n",
       "    }\n",
       "\n",
       "    .dataframe tbody tr th {\n",
       "        vertical-align: top;\n",
       "    }\n",
       "\n",
       "    .dataframe thead th {\n",
       "        text-align: right;\n",
       "    }\n",
       "</style>\n",
       "<table border=\"1\" class=\"dataframe\">\n",
       "  <thead>\n",
       "    <tr style=\"text-align: right;\">\n",
       "      <th></th>\n",
       "      <th>type</th>\n",
       "      <th>name</th>\n",
       "      <th>tbl_name</th>\n",
       "      <th>rootpage</th>\n",
       "      <th>sql</th>\n",
       "    </tr>\n",
       "  </thead>\n",
       "  <tbody>\n",
       "    <tr>\n",
       "      <th>0</th>\n",
       "      <td>table</td>\n",
       "      <td>rock_songs</td>\n",
       "      <td>rock_songs</td>\n",
       "      <td>2</td>\n",
       "      <td>CREATE TABLE \"rock_songs\" (\\n\"Song\" TEXT,\\n  \"...</td>\n",
       "    </tr>\n",
       "    <tr>\n",
       "      <th>1</th>\n",
       "      <td>table</td>\n",
       "      <td>rock_plays</td>\n",
       "      <td>rock_plays</td>\n",
       "      <td>4</td>\n",
       "      <td>CREATE TABLE \"rock_plays\" (\\n\"SONG RAW\" TEXT,\\...</td>\n",
       "    </tr>\n",
       "  </tbody>\n",
       "</table>\n",
       "</div>"
      ],
      "text/plain": [
       "    type        name    tbl_name  rootpage  \\\n",
       "0  table  rock_songs  rock_songs         2   \n",
       "1  table  rock_plays  rock_plays         4   \n",
       "\n",
       "                                                 sql  \n",
       "0  CREATE TABLE \"rock_songs\" (\\n\"Song\" TEXT,\\n  \"...  \n",
       "1  CREATE TABLE \"rock_plays\" (\\n\"SONG RAW\" TEXT,\\...  "
      ]
     },
     "execution_count": 21,
     "metadata": {},
     "output_type": "execute_result"
    }
   ],
   "source": [
    "all_ts"
   ]
  },
  {
   "cell_type": "code",
   "execution_count": 22,
   "metadata": {},
   "outputs": [
    {
     "data": {
      "text/plain": [
       "['rock_songs', 'rock_plays']"
      ]
     },
     "execution_count": 22,
     "metadata": {},
     "output_type": "execute_result"
    }
   ],
   "source": [
    "all_ts['tbl_name'].to_list()"
   ]
  },
  {
   "cell_type": "code",
   "execution_count": null,
   "metadata": {},
   "outputs": [],
   "source": []
  },
  {
   "cell_type": "code",
   "execution_count": 23,
   "metadata": {},
   "outputs": [],
   "source": [
    "# We can also run any supported SQL query\n",
    "\n",
    "# Write query\n",
    "allstarquery = '''\n",
    "SELECT *  \n",
    "    FROM rock_plays\n",
    "    \n",
    "'''"
   ]
  },
  {
   "cell_type": "code",
   "execution_count": 29,
   "metadata": {},
   "outputs": [],
   "source": [
    "# Execute the query\n",
    "observations_generator = pds.read_sql(allstarquery,\n",
    "                            con,\n",
    "                            coerce_float=True, # Doesn't efefct this dataset, because floats were correctly parsed\n",
    "                            parse_dates=['Release_Year'], # Parse `Release_Year` as a date\n",
    "                            chunksize=5 # Allows for streaming results as a series of shorter tables\n",
    "                           )\n"
   ]
  },
  {
   "cell_type": "code",
   "execution_count": 34,
   "metadata": {},
   "outputs": [],
   "source": [
    "# We can also run any supported SQL query\n",
    "\n",
    "# Write query\n",
    "query = '''\n",
    "SELECT *  \n",
    "    FROM rock_plays\n",
    "'''"
   ]
  },
  {
   "cell_type": "code",
   "execution_count": 58,
   "metadata": {},
   "outputs": [
    {
     "data": {
      "text/html": [
       "<div>\n",
       "<style scoped>\n",
       "    .dataframe tbody tr th:only-of-type {\n",
       "        vertical-align: middle;\n",
       "    }\n",
       "\n",
       "    .dataframe tbody tr th {\n",
       "        vertical-align: top;\n",
       "    }\n",
       "\n",
       "    .dataframe thead th {\n",
       "        text-align: right;\n",
       "    }\n",
       "</style>\n",
       "<table border=\"1\" class=\"dataframe\">\n",
       "  <thead>\n",
       "    <tr style=\"text-align: right;\">\n",
       "      <th></th>\n",
       "      <th>SONG RAW</th>\n",
       "      <th>Song Clean</th>\n",
       "      <th>ARTIST RAW</th>\n",
       "      <th>ARTIST CLEAN</th>\n",
       "      <th>CALLSIGN</th>\n",
       "      <th>TIME</th>\n",
       "      <th>UNIQUE_ID</th>\n",
       "      <th>COMBINED</th>\n",
       "      <th>First?</th>\n",
       "      <th>date_time</th>\n",
       "      <th>day_of_week</th>\n",
       "    </tr>\n",
       "  </thead>\n",
       "  <tbody>\n",
       "    <tr>\n",
       "      <th>0</th>\n",
       "      <td>Caught Up In (live)</td>\n",
       "      <td>Caught Up in You</td>\n",
       "      <td>.38 Special</td>\n",
       "      <td>.38 Special</td>\n",
       "      <td>KGLK</td>\n",
       "      <td>1402943314</td>\n",
       "      <td>KGLK1536</td>\n",
       "      <td>Caught Up in You by .38 Special</td>\n",
       "      <td>1</td>\n",
       "      <td>2014-06-16 18:28:34</td>\n",
       "      <td>0</td>\n",
       "    </tr>\n",
       "    <tr>\n",
       "      <th>1</th>\n",
       "      <td>Caught Up In You</td>\n",
       "      <td>Caught Up in You</td>\n",
       "      <td>.38 Special</td>\n",
       "      <td>.38 Special</td>\n",
       "      <td>KGB</td>\n",
       "      <td>1403398735</td>\n",
       "      <td>KGB0260</td>\n",
       "      <td>Caught Up in You by .38 Special</td>\n",
       "      <td>0</td>\n",
       "      <td>2014-06-22 00:58:55</td>\n",
       "      <td>6</td>\n",
       "    </tr>\n",
       "    <tr>\n",
       "      <th>2</th>\n",
       "      <td>Caught Up In You</td>\n",
       "      <td>Caught Up in You</td>\n",
       "      <td>.38 Special</td>\n",
       "      <td>.38 Special</td>\n",
       "      <td>KGB</td>\n",
       "      <td>1403243924</td>\n",
       "      <td>KGB0703</td>\n",
       "      <td>Caught Up in You by .38 Special</td>\n",
       "      <td>0</td>\n",
       "      <td>2014-06-20 05:58:44</td>\n",
       "      <td>4</td>\n",
       "    </tr>\n",
       "    <tr>\n",
       "      <th>3</th>\n",
       "      <td>Caught Up in You</td>\n",
       "      <td>Caught Up in You</td>\n",
       "      <td>.38 Special</td>\n",
       "      <td>.38 Special</td>\n",
       "      <td>KGLK</td>\n",
       "      <td>1403470732</td>\n",
       "      <td>KGLK0036</td>\n",
       "      <td>Caught Up in You by .38 Special</td>\n",
       "      <td>0</td>\n",
       "      <td>2014-06-22 20:58:52</td>\n",
       "      <td>6</td>\n",
       "    </tr>\n",
       "    <tr>\n",
       "      <th>4</th>\n",
       "      <td>Caught Up in You</td>\n",
       "      <td>Caught Up in You</td>\n",
       "      <td>.38 Special</td>\n",
       "      <td>.38 Special</td>\n",
       "      <td>KGLK</td>\n",
       "      <td>1403380737</td>\n",
       "      <td>KGLK0312</td>\n",
       "      <td>Caught Up in You by .38 Special</td>\n",
       "      <td>0</td>\n",
       "      <td>2014-06-21 19:58:57</td>\n",
       "      <td>5</td>\n",
       "    </tr>\n",
       "  </tbody>\n",
       "</table>\n",
       "</div>"
      ],
      "text/plain": [
       "              SONG RAW        Song Clean   ARTIST RAW ARTIST CLEAN CALLSIGN  \\\n",
       "0  Caught Up In (live)  Caught Up in You  .38 Special  .38 Special     KGLK   \n",
       "1     Caught Up In You  Caught Up in You  .38 Special  .38 Special      KGB   \n",
       "2     Caught Up In You  Caught Up in You  .38 Special  .38 Special      KGB   \n",
       "3     Caught Up in You  Caught Up in You  .38 Special  .38 Special     KGLK   \n",
       "4     Caught Up in You  Caught Up in You  .38 Special  .38 Special     KGLK   \n",
       "\n",
       "         TIME UNIQUE_ID                         COMBINED  First?  \\\n",
       "0  1402943314  KGLK1536  Caught Up in You by .38 Special       1   \n",
       "1  1403398735   KGB0260  Caught Up in You by .38 Special       0   \n",
       "2  1403243924   KGB0703  Caught Up in You by .38 Special       0   \n",
       "3  1403470732  KGLK0036  Caught Up in You by .38 Special       0   \n",
       "4  1403380737  KGLK0312  Caught Up in You by .38 Special       0   \n",
       "\n",
       "             date_time  day_of_week  \n",
       "0  2014-06-16 18:28:34            0  \n",
       "1  2014-06-22 00:58:55            6  \n",
       "2  2014-06-20 05:58:44            4  \n",
       "3  2014-06-22 20:58:52            6  \n",
       "4  2014-06-21 19:58:57            5  "
      ]
     },
     "execution_count": 58,
     "metadata": {},
     "output_type": "execute_result"
    }
   ],
   "source": [
    "# Execute query\n",
    "observations = pds.read_sql(query, con)\n",
    "playdf = observations.copy()\n",
    "playdf.columns\n",
    "playdf.head()"
   ]
  },
  {
   "cell_type": "code",
   "execution_count": 66,
   "metadata": {},
   "outputs": [
    {
     "data": {
      "text/html": [
       "<div>\n",
       "<style scoped>\n",
       "    .dataframe tbody tr th:only-of-type {\n",
       "        vertical-align: middle;\n",
       "    }\n",
       "\n",
       "    .dataframe tbody tr th {\n",
       "        vertical-align: top;\n",
       "    }\n",
       "\n",
       "    .dataframe thead th {\n",
       "        text-align: right;\n",
       "    }\n",
       "</style>\n",
       "<table border=\"1\" class=\"dataframe\">\n",
       "  <thead>\n",
       "    <tr style=\"text-align: right;\">\n",
       "      <th></th>\n",
       "      <th>SONG RAW</th>\n",
       "    </tr>\n",
       "  </thead>\n",
       "  <tbody>\n",
       "    <tr>\n",
       "      <th>Sweet Emotion</th>\n",
       "      <td>126</td>\n",
       "    </tr>\n",
       "    <tr>\n",
       "      <th>Dream On</th>\n",
       "      <td>126</td>\n",
       "    </tr>\n",
       "    <tr>\n",
       "      <th>You Shook Me All Night Long</th>\n",
       "      <td>122</td>\n",
       "    </tr>\n",
       "    <tr>\n",
       "      <th>Come Together</th>\n",
       "      <td>115</td>\n",
       "    </tr>\n",
       "    <tr>\n",
       "      <th>Tom Sawyer</th>\n",
       "      <td>110</td>\n",
       "    </tr>\n",
       "  </tbody>\n",
       "</table>\n",
       "</div>"
      ],
      "text/plain": [
       "                             SONG RAW\n",
       "Sweet Emotion                     126\n",
       "Dream On                          126\n",
       "You Shook Me All Night Long       122\n",
       "Come Together                     115\n",
       "Tom Sawyer                        110"
      ]
     },
     "execution_count": 66,
     "metadata": {},
     "output_type": "execute_result"
    }
   ],
   "source": [
    "over100plays = pd.DataFrame(playdf['SONG RAW'].value_counts().loc[playdf['SONG RAW'].value_counts()>100])\n",
    "over100plays.head()"
   ]
  },
  {
   "cell_type": "code",
   "execution_count": 67,
   "metadata": {},
   "outputs": [],
   "source": [
    "top3allstars = over100plays.copy()"
   ]
  },
  {
   "cell_type": "code",
   "execution_count": 71,
   "metadata": {},
   "outputs": [
    {
     "data": {
      "text/html": [
       "<div>\n",
       "<style scoped>\n",
       "    .dataframe tbody tr th:only-of-type {\n",
       "        vertical-align: middle;\n",
       "    }\n",
       "\n",
       "    .dataframe tbody tr th {\n",
       "        vertical-align: top;\n",
       "    }\n",
       "\n",
       "    .dataframe thead th {\n",
       "        text-align: right;\n",
       "    }\n",
       "</style>\n",
       "<table border=\"1\" class=\"dataframe\">\n",
       "  <thead>\n",
       "    <tr style=\"text-align: right;\">\n",
       "      <th></th>\n",
       "      <th>index</th>\n",
       "      <th>SONG RAW</th>\n",
       "    </tr>\n",
       "  </thead>\n",
       "  <tbody>\n",
       "    <tr>\n",
       "      <th>0</th>\n",
       "      <td>Sweet Emotion</td>\n",
       "      <td>126</td>\n",
       "    </tr>\n",
       "    <tr>\n",
       "      <th>1</th>\n",
       "      <td>Dream On</td>\n",
       "      <td>126</td>\n",
       "    </tr>\n",
       "    <tr>\n",
       "      <th>2</th>\n",
       "      <td>You Shook Me All Night Long</td>\n",
       "      <td>122</td>\n",
       "    </tr>\n",
       "    <tr>\n",
       "      <th>3</th>\n",
       "      <td>Come Together</td>\n",
       "      <td>115</td>\n",
       "    </tr>\n",
       "    <tr>\n",
       "      <th>4</th>\n",
       "      <td>Tom Sawyer</td>\n",
       "      <td>110</td>\n",
       "    </tr>\n",
       "    <tr>\n",
       "      <th>5</th>\n",
       "      <td>Bohemian Rhapsody</td>\n",
       "      <td>109</td>\n",
       "    </tr>\n",
       "    <tr>\n",
       "      <th>6</th>\n",
       "      <td>Sharp Dressed Man</td>\n",
       "      <td>105</td>\n",
       "    </tr>\n",
       "    <tr>\n",
       "      <th>7</th>\n",
       "      <td>Barracuda</td>\n",
       "      <td>104</td>\n",
       "    </tr>\n",
       "    <tr>\n",
       "      <th>8</th>\n",
       "      <td>Renegade</td>\n",
       "      <td>101</td>\n",
       "    </tr>\n",
       "  </tbody>\n",
       "</table>\n",
       "</div>"
      ],
      "text/plain": [
       "                         index  SONG RAW\n",
       "0                Sweet Emotion       126\n",
       "1                     Dream On       126\n",
       "2  You Shook Me All Night Long       122\n",
       "3                Come Together       115\n",
       "4                   Tom Sawyer       110\n",
       "5            Bohemian Rhapsody       109\n",
       "6            Sharp Dressed Man       105\n",
       "7                    Barracuda       104\n",
       "8                     Renegade       101"
      ]
     },
     "execution_count": 71,
     "metadata": {},
     "output_type": "execute_result"
    }
   ],
   "source": [
    "top3allstars.reset_index()"
   ]
  },
  {
   "cell_type": "code",
   "execution_count": 78,
   "metadata": {},
   "outputs": [],
   "source": [
    "top3allstars = top3allstars.reset_index().rename(columns={'index':'SongTitle', 'SONG RAW':'NumPlays'})"
   ]
  },
  {
   "cell_type": "code",
   "execution_count": 81,
   "metadata": {},
   "outputs": [],
   "source": [
    "top3allstars.index += 1"
   ]
  },
  {
   "cell_type": "code",
   "execution_count": 85,
   "metadata": {},
   "outputs": [],
   "source": [
    "top3allstars = top3allstars.reset_index().rename(columns={'index':'Rank'})"
   ]
  },
  {
   "cell_type": "code",
   "execution_count": 88,
   "metadata": {},
   "outputs": [],
   "source": [
    "top3df = pd.DataFrame(top3allstars.loc[top3allstars['Rank']<4])"
   ]
  },
  {
   "cell_type": "code",
   "execution_count": 89,
   "metadata": {},
   "outputs": [
    {
     "data": {
      "text/html": [
       "<div>\n",
       "<style scoped>\n",
       "    .dataframe tbody tr th:only-of-type {\n",
       "        vertical-align: middle;\n",
       "    }\n",
       "\n",
       "    .dataframe tbody tr th {\n",
       "        vertical-align: top;\n",
       "    }\n",
       "\n",
       "    .dataframe thead th {\n",
       "        text-align: right;\n",
       "    }\n",
       "</style>\n",
       "<table border=\"1\" class=\"dataframe\">\n",
       "  <thead>\n",
       "    <tr style=\"text-align: right;\">\n",
       "      <th></th>\n",
       "      <th>Rank</th>\n",
       "      <th>SongTitle</th>\n",
       "      <th>NumPlays</th>\n",
       "    </tr>\n",
       "  </thead>\n",
       "  <tbody>\n",
       "    <tr>\n",
       "      <th>0</th>\n",
       "      <td>1</td>\n",
       "      <td>Sweet Emotion</td>\n",
       "      <td>126</td>\n",
       "    </tr>\n",
       "    <tr>\n",
       "      <th>1</th>\n",
       "      <td>2</td>\n",
       "      <td>Dream On</td>\n",
       "      <td>126</td>\n",
       "    </tr>\n",
       "    <tr>\n",
       "      <th>2</th>\n",
       "      <td>3</td>\n",
       "      <td>You Shook Me All Night Long</td>\n",
       "      <td>122</td>\n",
       "    </tr>\n",
       "  </tbody>\n",
       "</table>\n",
       "</div>"
      ],
      "text/plain": [
       "   Rank                    SongTitle  NumPlays\n",
       "0     1                Sweet Emotion       126\n",
       "1     2                     Dream On       126\n",
       "2     3  You Shook Me All Night Long       122"
      ]
     },
     "execution_count": 89,
     "metadata": {},
     "output_type": "execute_result"
    }
   ],
   "source": [
    "top3df"
   ]
  },
  {
   "cell_type": "code",
   "execution_count": 91,
   "metadata": {},
   "outputs": [],
   "source": [
    "#top3df.to_csv('../res/top3allstars.csv')"
   ]
  },
  {
   "cell_type": "code",
   "execution_count": null,
   "metadata": {},
   "outputs": [],
   "source": []
  }
 ],
 "metadata": {
  "kernelspec": {
   "display_name": "deep",
   "language": "python",
   "name": "deep"
  },
  "language_info": {
   "codemirror_mode": {
    "name": "ipython",
    "version": 3
   },
   "file_extension": ".py",
   "mimetype": "text/x-python",
   "name": "python",
   "nbconvert_exporter": "python",
   "pygments_lexer": "ipython3",
   "version": "3.8.5"
  }
 },
 "nbformat": 4,
 "nbformat_minor": 4
}
